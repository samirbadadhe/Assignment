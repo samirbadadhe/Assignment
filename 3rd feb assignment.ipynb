{
 "cells": [
  {
   "cell_type": "code",
   "execution_count": 4,
   "metadata": {},
   "outputs": [],
   "source": [
    "# que 1) def keyword used for creating function\n",
    "        "
   ]
  },
  {
   "cell_type": "code",
   "execution_count": 1,
   "metadata": {},
   "outputs": [],
   "source": [
    "def get_odd_numbers():\n",
    "    odd_numbers = []\n",
    "    for num in range(1, 26):\n",
    "        if num % 2 != 0:\n",
    "            odd_numbers.append(num)\n",
    "    return odd_numbers"
   ]
  },
  {
   "cell_type": "code",
   "execution_count": 2,
   "metadata": {},
   "outputs": [
    {
     "name": "stdout",
     "output_type": "stream",
     "text": [
      "[1, 3, 5, 7, 9, 11, 13, 15, 17, 19, 21, 23, 25]\n"
     ]
    }
   ],
   "source": [
    "odd_numbers_list = get_odd_numbers()\n",
    "print(odd_numbers_list)"
   ]
  },
  {
   "cell_type": "code",
   "execution_count": 3,
   "metadata": {},
   "outputs": [],
   "source": [
    "# que 2)  You can use *args and **kwargs as arguments of a function when you are unsure about the number of arguments to pass in the functions."
   ]
  },
  {
   "cell_type": "code",
   "execution_count": 4,
   "metadata": {},
   "outputs": [],
   "source": [
    "def concatenate_strings(*args):\n",
    "    result = \"\"\n",
    "    for arg in args:\n",
    "        result += arg\n",
    "    return result"
   ]
  },
  {
   "cell_type": "code",
   "execution_count": 15,
   "metadata": {},
   "outputs": [
    {
     "name": "stdout",
     "output_type": "stream",
     "text": [
      "helloworld\n"
     ]
    }
   ],
   "source": [
    "print (concatenate_strings(\"hello\",\"\",\"world\"))"
   ]
  },
  {
   "cell_type": "code",
   "execution_count": 16,
   "metadata": {},
   "outputs": [],
   "source": [
    "# que 3  An iterator is an object that allows you to iterate over collections of data, such as lists, tuples, dictionaries, and sets. \n",
    "# method for iterator Iter() method is used to initialize the iterator object so that the instance of this object can be used for iterating."
   ]
  },
  {
   "cell_type": "code",
   "execution_count": 22,
   "metadata": {},
   "outputs": [
    {
     "name": "stdout",
     "output_type": "stream",
     "text": [
      "2\n",
      "4\n",
      "6\n",
      "8\n",
      "10\n"
     ]
    }
   ],
   "source": [
    "my_list = [2, 4, 6, 8, 10, 12, 14, 16, 18, 20]\n",
    "\n",
    "my_iterator = iter(my_list)\n",
    "\n",
    "for _ in range(5):\n",
    "    element = next(my_iterator)\n",
    "    print(element)"
   ]
  },
  {
   "cell_type": "code",
   "execution_count": 23,
   "metadata": {},
   "outputs": [],
   "source": [
    "# que 4) In Python, a generator function is a special type of function that generates a sequence of values using the yield keyword. \n",
    "# It allows you to define an iterative algorithm by writing a single function without the need to maintain the entire sequence in memory.\n",
    "# The yield keyword is used in a generator function to define the value to be generated in each iteration."
   ]
  },
  {
   "cell_type": "code",
   "execution_count": 24,
   "metadata": {},
   "outputs": [
    {
     "name": "stdout",
     "output_type": "stream",
     "text": [
      "0\n",
      "2\n",
      "4\n",
      "6\n",
      "8\n"
     ]
    }
   ],
   "source": [
    "def even_numbers():\n",
    "    num = 0\n",
    "    while True:\n",
    "        yield num\n",
    "        num += 2\n",
    "\n",
    "even_gen = even_numbers()\n",
    "\n",
    "for _ in range(5):\n",
    "    print(next(even_gen))"
   ]
  },
  {
   "cell_type": "code",
   "execution_count": 26,
   "metadata": {},
   "outputs": [
    {
     "name": "stdout",
     "output_type": "stream",
     "text": [
      "2\n",
      "3\n",
      "5\n",
      "7\n",
      "11\n",
      "13\n",
      "17\n",
      "19\n",
      "23\n",
      "29\n",
      "31\n",
      "37\n",
      "41\n",
      "43\n",
      "47\n",
      "53\n",
      "59\n",
      "61\n",
      "67\n",
      "71\n"
     ]
    }
   ],
   "source": [
    "# que 5) \n",
    "def prime_generator():\n",
    "    yield 2  \n",
    "    primes = [2] \n",
    "    num = 3\n",
    "\n",
    "    while num < 1000:\n",
    "        is_prime = True\n",
    "        for prime in primes:\n",
    "\n",
    "            if num % prime == 0:\n",
    "                is_prime = False\n",
    "                break\n",
    "            if prime * prime > num:\n",
    "                break\n",
    "\n",
    "        if is_prime:\n",
    "            yield num\n",
    "            primes.append(num)\n",
    "\n",
    "        num += 2\n",
    "\n",
    "prime_gen = prime_generator()\n",
    "\n",
    "for _ in range(20):\n",
    "    print(next(prime_gen))"
   ]
  },
  {
   "cell_type": "code",
   "execution_count": 30,
   "metadata": {},
   "outputs": [],
   "source": [
    "# que 6)\n",
    "def fibonacci():\n",
    "    num1, num2 = 0, 1\n",
    "    count = 0\n",
    "\n",
    "    while count < 10:\n",
    "        print(num1, end=\" \")\n",
    "        next_num = num1 + num2\n",
    "        num1 = num2\n",
    "        num2 = next_num\n",
    "        count += 1\n"
   ]
  },
  {
   "cell_type": "code",
   "execution_count": 31,
   "metadata": {},
   "outputs": [
    {
     "name": "stdout",
     "output_type": "stream",
     "text": [
      "0 1 1 2 3 5 8 13 21 34 "
     ]
    }
   ],
   "source": [
    "fibonacci()"
   ]
  },
  {
   "cell_type": "code",
   "execution_count": 32,
   "metadata": {},
   "outputs": [
    {
     "name": "stdout",
     "output_type": "stream",
     "text": [
      "['p', 'w', 's', 'k', 'i', 'l', 'l', 's']\n"
     ]
    }
   ],
   "source": [
    "# que 7)\n",
    "string = 'pwskills'\n",
    "result = [char for char in string]\n",
    "print(result)"
   ]
  },
  {
   "cell_type": "code",
   "execution_count": 33,
   "metadata": {},
   "outputs": [],
   "source": [
    "# que 8)\n",
    "def is_palindrome(number):\n",
    "    temp = number\n",
    "    reverse = 0\n",
    "\n",
    "    while temp > 0:\n",
    "        remainder = temp % 10\n",
    "        reverse = (reverse * 10) + remainder\n",
    "        temp = temp // 10\n",
    "\n",
    "    if number == reverse:\n",
    "        return True\n",
    "    else:\n",
    "        return False"
   ]
  },
  {
   "cell_type": "code",
   "execution_count": 35,
   "metadata": {},
   "outputs": [
    {
     "name": "stdout",
     "output_type": "stream",
     "text": [
      "10 is not a palindrome\n"
     ]
    }
   ],
   "source": [
    "number = int(input(\"Enter a number: \"))\n",
    "if is_palindrome(number):\n",
    "    print(number, \"is a palindrome\")\n",
    "else:\n",
    "    print(number, \"is not a palindrome\")"
   ]
  },
  {
   "cell_type": "code",
   "execution_count": 36,
   "metadata": {},
   "outputs": [
    {
     "name": "stdout",
     "output_type": "stream",
     "text": [
      "[1, 3, 5, 7, 9, 11, 13, 15, 17, 19, 21, 23, 25, 27, 29, 31, 33, 35, 37, 39, 41, 43, 45, 47, 49, 51, 53, 55, 57, 59, 61, 63, 65, 67, 69, 71, 73, 75, 77, 79, 81, 83, 85, 87, 89, 91, 93, 95, 97, 99]\n"
     ]
    }
   ],
   "source": [
    "# que 9)\n",
    "odd_numbers = [num for num in range(1, 101) if num % 2 != 0]\n",
    "print(odd_numbers)"
   ]
  },
  {
   "cell_type": "code",
   "execution_count": null,
   "metadata": {},
   "outputs": [],
   "source": []
  }
 ],
 "metadata": {
  "kernelspec": {
   "display_name": "Python 3",
   "language": "python",
   "name": "python3"
  },
  "language_info": {
   "codemirror_mode": {
    "name": "ipython",
    "version": 3
   },
   "file_extension": ".py",
   "mimetype": "text/x-python",
   "name": "python",
   "nbconvert_exporter": "python",
   "pygments_lexer": "ipython3",
   "version": "3.11.1"
  },
  "orig_nbformat": 4
 },
 "nbformat": 4,
 "nbformat_minor": 2
}
